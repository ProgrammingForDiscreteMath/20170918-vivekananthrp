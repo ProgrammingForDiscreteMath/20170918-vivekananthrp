{
 "cells": [
  {
   "cell_type": "markdown",
   "metadata": {
    "deletable": true,
    "editable": true
   },
   "source": [
    "# Graph Algorithms\n",
    "\n",
    "## Representing graphs\n",
    "\n",
    "Here are some ways of specifying a graph:\n",
    "\n",
    "1. From a list of edges\n",
    "2. From its adjacency matrix\n",
    "3. From its incidence matrix\n",
    "4. Using a Boolean function\n",
    "\n",
    "Let us use these four methods to construct the cycle graph with ten vertices."
   ]
  },
  {
   "cell_type": "code",
   "execution_count": 1,
   "metadata": {
    "collapsed": false,
    "deletable": true,
    "editable": true
   },
   "outputs": [],
   "source": [
    "# From a list of edges\n",
    "G1 = Graph([(i, (i+1)%10) for i in range(10)])\n",
    "\n",
    "# From adjacency matrix\n",
    "A = Matrix(ZZ, 10, 10)\n",
    "for i in range(1, 9):\n",
    "    A[i, i+1] = 1\n",
    "    A[i, i-1] = 1\n",
    "A[9, 0] = 1\n",
    "A[9, 8] = 1\n",
    "A[0, 9] = 1\n",
    "A[0, 1] = 1\n",
    "G2 = Graph(A, format='adjacency_matrix')\n",
    "\n",
    "# From incidence matrix\n",
    "A = Matrix(ZZ, 10, 10)\n",
    "for i in range(9):\n",
    "    A[i, i] = 1\n",
    "    A[i, i+1] = 1\n",
    "A[9, 0] = 1\n",
    "A[9, 9] = 1\n",
    "G3 = Graph(A, format='incidence_matrix')\n",
    "\n",
    "# From Boolean function\n",
    "G4 = Graph([range(10), lambda i,j: abs(j-i) == 1 or (i==9 and j==0) or (i==0 and j==9)])"
   ]
  },
  {
   "cell_type": "markdown",
   "metadata": {
    "deletable": true,
    "editable": true
   },
   "source": [
    "If the entries of the adjacency matrix are specified, then amount of space needed to define a graph with $V$ vertices is $V^2$. This kind of specification is called a *dense graph*.\n",
    "\n",
    "If a list of $V$ vertices and $E$ edges is provided, then the amount of space needed to define the graph is roughly $V + E$. This kind of specification is called a *sparse graph*.\n",
    "\n",
    "In general, if there are very few edges, sparse graph representations are used; otherwise dense graph representations are used."
   ]
  },
  {
   "cell_type": "markdown",
   "metadata": {
    "deletable": true,
    "editable": true
   },
   "source": [
    "## Graph traversal: depth-first versus breadth-first\n",
    "\n",
    "A graph traversal with root node `r` is an enumeration of nodes of the graph such that \n",
    "1. The first node in the enumration is `r`.\n",
    "2. each node in the enumeration has an edge to one of the earlier nodes in the enumeration.\n",
    "\n",
    "For a graph traversal, a starting node (the *root node*) is specified. The algorithm should visit each node of the graph exactly once if the graph is connected.\n",
    "\n",
    "There are two standard ways of doing this - *depth-first search* (DFS) and *breadth-first search* (BFS).\n",
    "In both methods, you start with the root node. At every stage of the algorithm you keep track of two things:\n",
    "1. ``V`` - nodes already visisted\n",
    "2. ``N`` - nodes which can be visited next.\n",
    "\n",
    "The difference between DFS and BFS is that in DFS, ``N`` is treated as a *queue* (first-in-first-out data structure), whereas in NFS ``N`` is treated as a *stack* (first-in-last-out data strcuture)."
   ]
  },
  {
   "cell_type": "markdown",
   "metadata": {
    "collapsed": true,
    "deletable": true,
    "editable": true
   },
   "source": [
    "## Queues and stacks in python\n",
    "\n",
    "A python list serves well as a stack:"
   ]
  },
  {
   "cell_type": "code",
   "execution_count": 5,
   "metadata": {
    "collapsed": false,
    "deletable": true,
    "editable": true
   },
   "outputs": [
    {
     "name": "stdout",
     "output_type": "stream",
     "text": [
      "[6, 1, 4]\n"
     ]
    }
   ],
   "source": [
    "L = [6, 1, 2, 9]\n",
    "L.pop() # 9 is popped from the right of L\n",
    "L.pop() # 2 is popped from the right of L\n",
    "L.append(4) # 4 is appended to the right of L\n",
    "print L"
   ]
  },
  {
   "cell_type": "markdown",
   "metadata": {
    "deletable": true,
    "editable": true
   },
   "source": [
    "But adding and removing elements to the *beginning* of a python is list is not very efficient, because the index of all the terms in the list has to be shifted by one. For this purpose python provides ``deque`` which has fast pops and appends on both ends:"
   ]
  },
  {
   "cell_type": "code",
   "execution_count": 7,
   "metadata": {
    "collapsed": false,
    "deletable": true,
    "editable": true
   },
   "outputs": [
    {
     "name": "stdout",
     "output_type": "stream",
     "text": [
      "6\n",
      "deque([2, 9, 4])\n"
     ]
    }
   ],
   "source": [
    "from collections import deque\n",
    "L = deque([6, 1, 2, 9])\n",
    "L.popleft() # 6 is popped\n",
    "L.popleft() # 1 is popped\n",
    "L.append(4) # 4 is appended to the right of L\n",
    "print L"
   ]
  },
  {
   "cell_type": "markdown",
   "metadata": {
    "deletable": true,
    "editable": true
   },
   "source": [
    "Note that a ``deque`` also has an ``appendleft`` method. See https://docs.python.org/2/library/collections.html#collections.deque for more information "
   ]
  },
  {
   "cell_type": "markdown",
   "metadata": {
    "deletable": true,
    "editable": true
   },
   "source": [
    "## Implementing graph traversal"
   ]
  },
  {
   "cell_type": "code",
   "execution_count": 38,
   "metadata": {
    "collapsed": true,
    "deletable": true,
    "editable": true
   },
   "outputs": [],
   "source": [
    "from collections import deque\n",
    "def traverse(G, root, algorithm):\n",
    "    r\"\"\"\n",
    "    Return a traversal of ``G`` starting with root node ``r`` using DFS or BFS.\n",
    "    \n",
    "    INPUT:\n",
    "    \n",
    "    ``G`` - a graph or directed graph\n",
    "    ``r`` - a node of ``G``\n",
    "    ``algorithm`` - 'DFS' or 'BFS'\n",
    "    \"\"\"\n",
    "    traversal = []\n",
    "    can_visit = deque([root])\n",
    "    n = root\n",
    "    while can_visit: # this runs so long as can_visit is non-empty\n",
    "        traversal.append(n)\n",
    "        can_visit.extend([v for v in G.neighbors(n) if not (v in can_visit or v in traversal)])\n",
    "        if algorithm == 'DFS':\n",
    "            n = can_visit.pop()\n",
    "        elif algorithm == 'BFS':\n",
    "            n = can_visit.popleft()\n",
    "        else:\n",
    "            raise ValueError('algorithm should be DFS or BFS')\n",
    "    return traversal"
   ]
  },
  {
   "cell_type": "code",
   "execution_count": 39,
   "metadata": {
    "collapsed": false,
    "deletable": true,
    "editable": true
   },
   "outputs": [
    {
     "data": {
      "text/plain": [
       "[0, 5, 8, 6, 9, 3, 2, 7, 4, 1]"
      ]
     },
     "execution_count": 39,
     "metadata": {},
     "output_type": "execute_result"
    }
   ],
   "source": [
    "G = graphs.PetersenGraph()\n",
    "traverse(G, 0, algorithm='DFS')"
   ]
  },
  {
   "cell_type": "code",
   "execution_count": 40,
   "metadata": {
    "collapsed": false,
    "deletable": true,
    "editable": true
   },
   "outputs": [
    {
     "data": {
      "text/plain": [
       "[0, 0, 1, 4, 5, 2, 6, 3, 9, 7]"
      ]
     },
     "execution_count": 40,
     "metadata": {},
     "output_type": "execute_result"
    }
   ],
   "source": [
    "traverse(G, 0, algorithm='BFS')"
   ]
  },
  {
   "cell_type": "code",
   "execution_count": 41,
   "metadata": {
    "collapsed": false,
    "deletable": true,
    "editable": true
   },
   "outputs": [
    {
     "data": {
      "text/plain": [
       "[0, 5, 8, 6, 9, 7, 2, 3, 4, 1]"
      ]
     },
     "execution_count": 41,
     "metadata": {},
     "output_type": "execute_result"
    }
   ],
   "source": [
    "list(G.depth_first_search(0))"
   ]
  },
  {
   "cell_type": "code",
   "execution_count": 37,
   "metadata": {
    "collapsed": false,
    "deletable": true,
    "editable": true
   },
   "outputs": [
    {
     "data": {
      "image/png": "[encoded data removed]",
      "text/plain": [
       "Graphics object consisting of 26 graphics primitives"
      ]
     },
     "metadata": {},
     "output_type": "display_data"
    }
   ],
   "source": [
    "G.show()"
   ]
  },
  {
   "cell_type": "code",
   "execution_count": null,
   "metadata": {
    "collapsed": true,
    "deletable": true,
    "editable": true
   },
   "outputs": [],
   "source": []
  }
 ],
 "metadata": {
  "kernelspec": {
   "display_name": "SageMath 8.0",
   "language": "",
   "name": "sagemath"
  },
  "language_info": {
   "codemirror_mode": {
    "name": "ipython",
    "version": 2
   },
   "file_extension": ".py",
   "mimetype": "text/x-python",
   "name": "python",
   "nbconvert_exporter": "python",
   "pygments_lexer": "ipython2",
   "version": "2.7.13"
  }
 },
 "nbformat": 4,
 "nbformat_minor": 2
}
